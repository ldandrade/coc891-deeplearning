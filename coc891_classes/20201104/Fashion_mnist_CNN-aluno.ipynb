{
 "cells": [
  {
   "cell_type": "markdown",
   "metadata": {},
   "source": [
    "# CNN para classificação\n",
    "\n",
    "Este notebook apesenta a contrução de uma Rede Neural de CNN para resolver o problema de classificação de vestuário. A base de dados utilizando encontra-se disponível no site https://github.com/zalandoresearch/fashion-mnist. Esta base de dados consiste de 65000 imagens as quais podem ser classificadas nas seguintes classes: \n",
    "\n",
    "*\tT-shirt/top\n",
    "*\tTrouser\n",
    "*\tPullover\n",
    "*\tDress\n",
    "*\tCoat\n",
    "*\tSandal\n",
    "*\tShirt\n",
    "*   Sneaker\n",
    "*\tBag\n",
    "*\tAnkle boot\n",
    "\n",
    "Alguns exemplos das imagens contidas nesta base de dados são apresentados a seguir:"
   ]
  },
  {
   "cell_type": "markdown",
   "metadata": {},
   "source": [
    "![alt text](fashion-mnist-sprite.png \"Exemplos\")"
   ]
  },
  {
   "cell_type": "markdown",
   "metadata": {},
   "source": [
    "## Carregamento dos pacotes a serem utilizados"
   ]
  },
  {
   "cell_type": "code",
   "execution_count": 1,
   "metadata": {
    "ExecuteTime": {
     "end_time": "2020-10-23T18:42:37.261189Z",
     "start_time": "2020-10-23T18:42:34.596555Z"
    }
   },
   "outputs": [
    {
     "output_type": "error",
     "ename": "ModuleNotFoundError",
     "evalue": "No module named 'matplotlib'",
     "traceback": [
      "\u001b[0;31m---------------------------------------------------------------------------\u001b[0m",
      "\u001b[0;31mModuleNotFoundError\u001b[0m                       Traceback (most recent call last)",
      "\u001b[0;32m<ipython-input-1-3149a92d4785>\u001b[0m in \u001b[0;36m<module>\u001b[0;34m\u001b[0m\n\u001b[0;32m----> 1\u001b[0;31m \u001b[0mget_ipython\u001b[0m\u001b[0;34m(\u001b[0m\u001b[0;34m)\u001b[0m\u001b[0;34m.\u001b[0m\u001b[0mrun_line_magic\u001b[0m\u001b[0;34m(\u001b[0m\u001b[0;34m'matplotlib'\u001b[0m\u001b[0;34m,\u001b[0m \u001b[0;34m'inline'\u001b[0m\u001b[0;34m)\u001b[0m\u001b[0;34m\u001b[0m\u001b[0;34m\u001b[0m\u001b[0m\n\u001b[0m\u001b[1;32m      2\u001b[0m \u001b[0mget_ipython\u001b[0m\u001b[0;34m(\u001b[0m\u001b[0;34m)\u001b[0m\u001b[0;34m.\u001b[0m\u001b[0mrun_line_magic\u001b[0m\u001b[0;34m(\u001b[0m\u001b[0;34m'config'\u001b[0m\u001b[0;34m,\u001b[0m \u001b[0;34m\"InlineBackend.figure_format = 'retina'\"\u001b[0m\u001b[0;34m)\u001b[0m\u001b[0;34m\u001b[0m\u001b[0;34m\u001b[0m\u001b[0m\n\u001b[1;32m      3\u001b[0m \u001b[0;32mimport\u001b[0m \u001b[0mtensorflow\u001b[0m \u001b[0;32mas\u001b[0m \u001b[0mtf\u001b[0m\u001b[0;34m\u001b[0m\u001b[0;34m\u001b[0m\u001b[0m\n\u001b[1;32m      4\u001b[0m \u001b[0;32mfrom\u001b[0m \u001b[0mtensorflow\u001b[0m \u001b[0;32mimport\u001b[0m \u001b[0mkeras\u001b[0m\u001b[0;34m\u001b[0m\u001b[0;34m\u001b[0m\u001b[0m\n\u001b[1;32m      5\u001b[0m \u001b[0;34m\u001b[0m\u001b[0m\n",
      "\u001b[0;32m/usr/local/lib/python3.6/dist-packages/IPython/core/interactiveshell.py\u001b[0m in \u001b[0;36mrun_line_magic\u001b[0;34m(self, magic_name, line, _stack_depth)\u001b[0m\n\u001b[1;32m   2324\u001b[0m                 \u001b[0mkwargs\u001b[0m\u001b[0;34m[\u001b[0m\u001b[0;34m'local_ns'\u001b[0m\u001b[0;34m]\u001b[0m \u001b[0;34m=\u001b[0m \u001b[0msys\u001b[0m\u001b[0;34m.\u001b[0m\u001b[0m_getframe\u001b[0m\u001b[0;34m(\u001b[0m\u001b[0mstack_depth\u001b[0m\u001b[0;34m)\u001b[0m\u001b[0;34m.\u001b[0m\u001b[0mf_locals\u001b[0m\u001b[0;34m\u001b[0m\u001b[0;34m\u001b[0m\u001b[0m\n\u001b[1;32m   2325\u001b[0m             \u001b[0;32mwith\u001b[0m \u001b[0mself\u001b[0m\u001b[0;34m.\u001b[0m\u001b[0mbuiltin_trap\u001b[0m\u001b[0;34m:\u001b[0m\u001b[0;34m\u001b[0m\u001b[0;34m\u001b[0m\u001b[0m\n\u001b[0;32m-> 2326\u001b[0;31m                 \u001b[0mresult\u001b[0m \u001b[0;34m=\u001b[0m \u001b[0mfn\u001b[0m\u001b[0;34m(\u001b[0m\u001b[0;34m*\u001b[0m\u001b[0margs\u001b[0m\u001b[0;34m,\u001b[0m \u001b[0;34m**\u001b[0m\u001b[0mkwargs\u001b[0m\u001b[0;34m)\u001b[0m\u001b[0;34m\u001b[0m\u001b[0;34m\u001b[0m\u001b[0m\n\u001b[0m\u001b[1;32m   2327\u001b[0m             \u001b[0;32mreturn\u001b[0m \u001b[0mresult\u001b[0m\u001b[0;34m\u001b[0m\u001b[0;34m\u001b[0m\u001b[0m\n\u001b[1;32m   2328\u001b[0m \u001b[0;34m\u001b[0m\u001b[0m\n",
      "\u001b[0;32m<decorator-gen-101>\u001b[0m in \u001b[0;36mmatplotlib\u001b[0;34m(self, line)\u001b[0m\n",
      "\u001b[0;32m/usr/local/lib/python3.6/dist-packages/IPython/core/magic.py\u001b[0m in \u001b[0;36m<lambda>\u001b[0;34m(f, *a, **k)\u001b[0m\n\u001b[1;32m    185\u001b[0m     \u001b[0;31m# but it's overkill for just that one bit of state.\u001b[0m\u001b[0;34m\u001b[0m\u001b[0;34m\u001b[0m\u001b[0;34m\u001b[0m\u001b[0m\n\u001b[1;32m    186\u001b[0m     \u001b[0;32mdef\u001b[0m \u001b[0mmagic_deco\u001b[0m\u001b[0;34m(\u001b[0m\u001b[0marg\u001b[0m\u001b[0;34m)\u001b[0m\u001b[0;34m:\u001b[0m\u001b[0;34m\u001b[0m\u001b[0;34m\u001b[0m\u001b[0m\n\u001b[0;32m--> 187\u001b[0;31m         \u001b[0mcall\u001b[0m \u001b[0;34m=\u001b[0m \u001b[0;32mlambda\u001b[0m \u001b[0mf\u001b[0m\u001b[0;34m,\u001b[0m \u001b[0;34m*\u001b[0m\u001b[0ma\u001b[0m\u001b[0;34m,\u001b[0m \u001b[0;34m**\u001b[0m\u001b[0mk\u001b[0m\u001b[0;34m:\u001b[0m \u001b[0mf\u001b[0m\u001b[0;34m(\u001b[0m\u001b[0;34m*\u001b[0m\u001b[0ma\u001b[0m\u001b[0;34m,\u001b[0m \u001b[0;34m**\u001b[0m\u001b[0mk\u001b[0m\u001b[0;34m)\u001b[0m\u001b[0;34m\u001b[0m\u001b[0;34m\u001b[0m\u001b[0m\n\u001b[0m\u001b[1;32m    188\u001b[0m \u001b[0;34m\u001b[0m\u001b[0m\n\u001b[1;32m    189\u001b[0m         \u001b[0;32mif\u001b[0m \u001b[0mcallable\u001b[0m\u001b[0;34m(\u001b[0m\u001b[0marg\u001b[0m\u001b[0;34m)\u001b[0m\u001b[0;34m:\u001b[0m\u001b[0;34m\u001b[0m\u001b[0;34m\u001b[0m\u001b[0m\n",
      "\u001b[0;32m/usr/local/lib/python3.6/dist-packages/IPython/core/magics/pylab.py\u001b[0m in \u001b[0;36mmatplotlib\u001b[0;34m(self, line)\u001b[0m\n\u001b[1;32m     97\u001b[0m             \u001b[0mprint\u001b[0m\u001b[0;34m(\u001b[0m\u001b[0;34m\"Available matplotlib backends: %s\"\u001b[0m \u001b[0;34m%\u001b[0m \u001b[0mbackends_list\u001b[0m\u001b[0;34m)\u001b[0m\u001b[0;34m\u001b[0m\u001b[0;34m\u001b[0m\u001b[0m\n\u001b[1;32m     98\u001b[0m         \u001b[0;32melse\u001b[0m\u001b[0;34m:\u001b[0m\u001b[0;34m\u001b[0m\u001b[0;34m\u001b[0m\u001b[0m\n\u001b[0;32m---> 99\u001b[0;31m             \u001b[0mgui\u001b[0m\u001b[0;34m,\u001b[0m \u001b[0mbackend\u001b[0m \u001b[0;34m=\u001b[0m \u001b[0mself\u001b[0m\u001b[0;34m.\u001b[0m\u001b[0mshell\u001b[0m\u001b[0;34m.\u001b[0m\u001b[0menable_matplotlib\u001b[0m\u001b[0;34m(\u001b[0m\u001b[0margs\u001b[0m\u001b[0;34m.\u001b[0m\u001b[0mgui\u001b[0m\u001b[0;34m.\u001b[0m\u001b[0mlower\u001b[0m\u001b[0;34m(\u001b[0m\u001b[0;34m)\u001b[0m \u001b[0;32mif\u001b[0m \u001b[0misinstance\u001b[0m\u001b[0;34m(\u001b[0m\u001b[0margs\u001b[0m\u001b[0;34m.\u001b[0m\u001b[0mgui\u001b[0m\u001b[0;34m,\u001b[0m \u001b[0mstr\u001b[0m\u001b[0;34m)\u001b[0m \u001b[0;32melse\u001b[0m \u001b[0margs\u001b[0m\u001b[0;34m.\u001b[0m\u001b[0mgui\u001b[0m\u001b[0;34m)\u001b[0m\u001b[0;34m\u001b[0m\u001b[0;34m\u001b[0m\u001b[0m\n\u001b[0m\u001b[1;32m    100\u001b[0m             \u001b[0mself\u001b[0m\u001b[0;34m.\u001b[0m\u001b[0m_show_matplotlib_backend\u001b[0m\u001b[0;34m(\u001b[0m\u001b[0margs\u001b[0m\u001b[0;34m.\u001b[0m\u001b[0mgui\u001b[0m\u001b[0;34m,\u001b[0m \u001b[0mbackend\u001b[0m\u001b[0;34m)\u001b[0m\u001b[0;34m\u001b[0m\u001b[0;34m\u001b[0m\u001b[0m\n\u001b[1;32m    101\u001b[0m \u001b[0;34m\u001b[0m\u001b[0m\n",
      "\u001b[0;32m/usr/local/lib/python3.6/dist-packages/IPython/core/interactiveshell.py\u001b[0m in \u001b[0;36menable_matplotlib\u001b[0;34m(self, gui)\u001b[0m\n\u001b[1;32m   3417\u001b[0m         \"\"\"\n\u001b[1;32m   3418\u001b[0m         \u001b[0;32mfrom\u001b[0m \u001b[0mIPython\u001b[0m\u001b[0;34m.\u001b[0m\u001b[0mcore\u001b[0m \u001b[0;32mimport\u001b[0m \u001b[0mpylabtools\u001b[0m \u001b[0;32mas\u001b[0m \u001b[0mpt\u001b[0m\u001b[0;34m\u001b[0m\u001b[0;34m\u001b[0m\u001b[0m\n\u001b[0;32m-> 3419\u001b[0;31m         \u001b[0mgui\u001b[0m\u001b[0;34m,\u001b[0m \u001b[0mbackend\u001b[0m \u001b[0;34m=\u001b[0m \u001b[0mpt\u001b[0m\u001b[0;34m.\u001b[0m\u001b[0mfind_gui_and_backend\u001b[0m\u001b[0;34m(\u001b[0m\u001b[0mgui\u001b[0m\u001b[0;34m,\u001b[0m \u001b[0mself\u001b[0m\u001b[0;34m.\u001b[0m\u001b[0mpylab_gui_select\u001b[0m\u001b[0;34m)\u001b[0m\u001b[0;34m\u001b[0m\u001b[0;34m\u001b[0m\u001b[0m\n\u001b[0m\u001b[1;32m   3420\u001b[0m \u001b[0;34m\u001b[0m\u001b[0m\n\u001b[1;32m   3421\u001b[0m         \u001b[0;32mif\u001b[0m \u001b[0mgui\u001b[0m \u001b[0;34m!=\u001b[0m \u001b[0;34m'inline'\u001b[0m\u001b[0;34m:\u001b[0m\u001b[0;34m\u001b[0m\u001b[0;34m\u001b[0m\u001b[0m\n",
      "\u001b[0;32m/usr/local/lib/python3.6/dist-packages/IPython/core/pylabtools.py\u001b[0m in \u001b[0;36mfind_gui_and_backend\u001b[0;34m(gui, gui_select)\u001b[0m\n\u001b[1;32m    278\u001b[0m     \"\"\"\n\u001b[1;32m    279\u001b[0m \u001b[0;34m\u001b[0m\u001b[0m\n\u001b[0;32m--> 280\u001b[0;31m     \u001b[0;32mimport\u001b[0m \u001b[0mmatplotlib\u001b[0m\u001b[0;34m\u001b[0m\u001b[0;34m\u001b[0m\u001b[0m\n\u001b[0m\u001b[1;32m    281\u001b[0m \u001b[0;34m\u001b[0m\u001b[0m\n\u001b[1;32m    282\u001b[0m     \u001b[0;32mif\u001b[0m \u001b[0mgui\u001b[0m \u001b[0;32mand\u001b[0m \u001b[0mgui\u001b[0m \u001b[0;34m!=\u001b[0m \u001b[0;34m'auto'\u001b[0m\u001b[0;34m:\u001b[0m\u001b[0;34m\u001b[0m\u001b[0;34m\u001b[0m\u001b[0m\n",
      "\u001b[0;31mModuleNotFoundError\u001b[0m: No module named 'matplotlib'"
     ]
    }
   ],
   "source": [
    "%matplotlib inline\n",
    "%config InlineBackend.figure_format = 'retina'\n",
    "import tensorflow as tf\n",
    "from tensorflow import keras\n",
    "\n",
    "# Helper libraries\n",
    "import numpy as np\n",
    "import matplotlib.pyplot as plt\n",
    "\n",
    "print(tf.__version__)"
   ]
  },
  {
   "cell_type": "markdown",
   "metadata": {},
   "source": [
    "## Carregamento do dataset"
   ]
  },
  {
   "cell_type": "code",
   "execution_count": 2,
   "metadata": {
    "ExecuteTime": {
     "end_time": "2020-10-23T18:42:37.282132Z",
     "start_time": "2020-10-23T18:42:37.277144Z"
    }
   },
   "outputs": [],
   "source": [
    "# fashion_mnist = keras.datasets.fashion_mnist\n",
    "\n",
    "# (train_images, train_labels), (test_images, test_labels) = fashion_mnist.load_data()\n",
    "\n",
    "class_names = ['T-shirt/top', 'Trouser', 'Pullover', 'Dress', 'Coat',\n",
    "               'Sandal', 'Shirt', 'Sneaker', 'Bag', 'Ankle boot']"
   ]
  },
  {
   "cell_type": "code",
   "execution_count": 3,
   "metadata": {
    "ExecuteTime": {
     "end_time": "2020-10-23T18:42:38.728473Z",
     "start_time": "2020-10-23T18:42:38.327514Z"
    }
   },
   "outputs": [
    {
     "output_type": "execute_result",
     "data": {
      "text/plain": [
       "(60000, 28, 28)"
      ]
     },
     "metadata": {},
     "execution_count": 3
    }
   ],
   "source": [
    "fashion_mnist = keras.datasets.fashion_mnist\n",
    "\n",
    "(train_images, train_labels), (test_images, test_labels) = fashion_mnist.load_data()\n",
    "train_images.shape"
   ]
  },
  {
   "cell_type": "markdown",
   "metadata": {},
   "source": [
    "## Explorando o dataset"
   ]
  },
  {
   "cell_type": "code",
   "execution_count": 4,
   "metadata": {
    "ExecuteTime": {
     "end_time": "2020-10-23T18:42:39.629751Z",
     "start_time": "2020-10-23T18:42:39.624762Z"
    }
   },
   "outputs": [
    {
     "output_type": "stream",
     "name": "stdout",
     "text": [
      "numero de amostras de treinamento 60000\nnumero de amostras de teste 10000\n"
     ]
    }
   ],
   "source": [
    "print(\"numero de amostras de treinamento\", len(train_images))\n",
    "print(\"numero de amostras de teste\", len(test_images))"
   ]
  },
  {
   "cell_type": "code",
   "execution_count": 5,
   "metadata": {
    "ExecuteTime": {
     "end_time": "2020-10-23T18:42:40.477227Z",
     "start_time": "2020-10-23T18:42:40.471278Z"
    }
   },
   "outputs": [
    {
     "output_type": "stream",
     "name": "stdout",
     "text": [
      "Dimensões dos dados de entrada (60000, 28, 28)\nDimensões dos dados do target (60000,)\n"
     ]
    }
   ],
   "source": [
    "print(\"Dimensões dos dados de entrada\", train_images.shape)\n",
    "print(\"Dimensões dos dados do target\", train_labels.shape)"
   ]
  },
  {
   "cell_type": "code",
   "execution_count": 6,
   "metadata": {
    "ExecuteTime": {
     "end_time": "2020-10-23T18:42:41.789785Z",
     "start_time": "2020-10-23T18:42:40.673264Z"
    }
   },
   "outputs": [
    {
     "output_type": "display_data",
     "data": {
      "text/plain": "<Figure size 720x720 with 25 Axes>",
      "image/png": "[encoded data removed]"
     },
     "metadata": {
      "image/png": {
       "width": 573,
       "height": 571
      }
     }
    }
   ],
   "source": [
    "plt.figure(figsize=(10,10))\n",
    "for i in range(25):\n",
    "    plt.subplot(5,5,i+1)\n",
    "    plt.xticks([])\n",
    "    plt.yticks([])\n",
    "    plt.grid(False)\n",
    "    plt.imshow(train_images[i], cmap=plt.cm.binary)\n",
    "    plt.xlabel(class_names[train_labels[i]])\n",
    "plt.show()"
   ]
  },
  {
   "cell_type": "markdown",
   "metadata": {},
   "source": [
    "Existem diversas ferramentas de visualização de dados multidimensionais, entre elas destaca-se a tecnica t-SNET (https://distill.pub/2016/misread-tsne/). Um exemplo de visualização empregando a base de dados descrita neste notebook é apresentado a seguir.  \n",
    "![alt text](embedding_fashion_mnist.gif \"Title\")\n",
    "\n",
    "Exemplo online http://projector.tensorflow.org/"
   ]
  },
  {
   "cell_type": "code",
   "execution_count": 7,
   "metadata": {
    "ExecuteTime": {
     "end_time": "2020-10-23T18:42:42.287929Z",
     "start_time": "2020-10-23T18:42:42.209172Z"
    }
   },
   "outputs": [
    {
     "output_type": "stream",
     "name": "stdout",
     "text": [
      "Máximo e Mínimo do conjunto de treinamento 255 / 0\n"
     ]
    }
   ],
   "source": [
    "print(\"Máximo e Mínimo do conjunto de treinamento\", np.max(train_images), \"/\", np.min(train_images))"
   ]
  },
  {
   "cell_type": "markdown",
   "metadata": {},
   "source": [
    "## Ajustando a dimensão da imagem:\n",
    "\n",
    "Neste exemplo devido ao tipo de rede que sera implementada, é necessario fornecer como entrada do modelo um tensor 4D com as seguintes caracteristicas: [num_batch, dim1, dim2, num_canais]"
   ]
  },
  {
   "cell_type": "code",
   "execution_count": 8,
   "metadata": {
    "ExecuteTime": {
     "end_time": "2020-10-23T18:42:43.282740Z",
     "start_time": "2020-10-23T18:42:43.278750Z"
    }
   },
   "outputs": [
    {
     "output_type": "stream",
     "name": "stdout",
     "text": [
      "shape da entrada:  (60000, 28, 28)\n"
     ]
    }
   ],
   "source": [
    "print(\"shape da entrada: \", train_images.shape)"
   ]
  },
  {
   "cell_type": "code",
   "execution_count": 9,
   "metadata": {
    "ExecuteTime": {
     "end_time": "2020-10-23T18:42:43.832641Z",
     "start_time": "2020-10-23T18:42:43.828649Z"
    }
   },
   "outputs": [],
   "source": [
    "train_images = np.expand_dims(train_images,axis=3)\n",
    "test_images = np.expand_dims(test_images,axis=3)"
   ]
  },
  {
   "cell_type": "code",
   "execution_count": 10,
   "metadata": {
    "ExecuteTime": {
     "end_time": "2020-10-23T18:42:44.316418Z",
     "start_time": "2020-10-23T18:42:44.311431Z"
    }
   },
   "outputs": [
    {
     "output_type": "stream",
     "name": "stdout",
     "text": [
      "shape da entrada:  (60000, 28, 28, 1)\n"
     ]
    }
   ],
   "source": [
    "print(\"shape da entrada: \", train_images.shape)"
   ]
  },
  {
   "cell_type": "markdown",
   "metadata": {},
   "source": [
    "## Dividindo o conjunto de validação"
   ]
  },
  {
   "cell_type": "markdown",
   "metadata": {},
   "source": [
    "Dessa vez faremos a divisão entre treino e validação de forma controlada e fora do model.fit()"
   ]
  },
  {
   "cell_type": "code",
   "execution_count": 12,
   "metadata": {
    "ExecuteTime": {
     "end_time": "2020-10-23T18:22:01.691214Z",
     "start_time": "2020-10-23T18:21:59.694164Z"
    }
   },
   "outputs": [],
   "source": [
    "from sklearn.model_selection import train_test_split\n",
    "X_train, X_val, y_train, y_val = train_test_split(train_images, train_labels,\n",
    "                                                    stratify=train_labels, \n",
    "                                                    test_size=0.2)"
   ]
  },
  {
   "cell_type": "markdown",
   "metadata": {},
   "source": [
    "## Definição do modelo\n",
    "\n",
    "Na próxima caixa de código você implementara um modelo de rede neural CNN, serão explorados 4 diferentes configurações.\n",
    "\n",
    "1) CNN convencional: conv-->maxpool-->conv-->maxpool-->Densa-->Densa-->predição\n",
    "\n",
    "2) CNN + dropout: conv-->maxpool-->conv-->maxpool-->Densa-->Dropout-->Densa-->predição\n",
    "\n",
    "3) CNN + batch normalization: conv-->BN-->ReLu-->maxpool-->conv-->BN-->ReLu-->maxpool-->Densa-->Densa-->predição\n",
    "\n",
    "4) CNN + Global average pooling: conv-->maxpool-->conv-->GAP-->Densa-->Densa-->predição\n",
    "\n",
    "Dica:\n",
    "\n",
    "keras.layers.Conv2D\n",
    "\n",
    "keras.layers.Activation\n",
    "\n",
    "keras.layers.MaxPool2D\n",
    "\n",
    "keras.layers.Flatten\n",
    "\n",
    "keras.layers.Dense\n",
    "\n",
    "keras.layers.Dropout\n",
    "\n",
    "keras.layers.BatchNormalization\n",
    "\n",
    "keras.layers.GlobalAveragePooling2D"
   ]
  },
  {
   "cell_type": "markdown",
   "metadata": {},
   "source": [
    "- CNN convencional"
   ]
  },
  {
   "cell_type": "code",
   "execution_count": 19,
   "metadata": {},
   "outputs": [],
   "source": [
    "model1 = keras.Sequential([\n",
    "    keras.layers.Conv2D(20, kernel_size=3, activation='relu', input_shape=(28,28,1), padding='valid'),\n",
    "    keras.layers.MaxPool2D(pool_size=(2,2), strides=None),\n",
    "    keras.layers.Conv2D(10, kernel_size=3, activation='relu', padding='valid'),\n",
    "    keras.layers.MaxPool2D(pool_size=(2,2), strides=None),\n",
    "    keras.layers.Flatten(),\n",
    "    keras.layers.Dense(15, activation='relu'),\n",
    "    keras.layers.Dense(10, activation=tf.nn.softmax)\n",
    "])"
   ]
  },
  {
   "cell_type": "code",
   "execution_count": 22,
   "metadata": {},
   "outputs": [],
   "source": [
    "model2 = keras.Sequential([\n",
    "    keras.layers.Conv2D(20, kernel_size=3, activation='relu', input_shape=(28,28,1), padding='valid'),\n",
    "    keras.layers.MaxPool2D(pool_size=(2,2), strides=None),\n",
    "    keras.layers.Conv2D(10, kernel_size=3, activation='relu', padding='valid'),\n",
    "    keras.layers.MaxPool2D(pool_size=(2,2), strides=None),\n",
    "    keras.layers.Flatten(),\n",
    "    keras.layers.Dense(15, activation='relu'),\n",
    "    keras.layers.Dropout(0.4),\n",
    "    keras.layers.Dense(10, activation=tf.nn.softmax)\n",
    "])"
   ]
  },
  {
   "cell_type": "code",
   "execution_count": 23,
   "metadata": {},
   "outputs": [],
   "source": [
    "model3 = keras.Sequential([\n",
    "    keras.layers.Conv2D(20, kernel_size=3, activation='relu', input_shape=(28,28,1), padding='valid'),\n",
    "    keras.layers.BatchNormalization(),\n",
    "    keras.layers.Activation('relu'),\n",
    "    keras.layers.MaxPool2D(pool_size=(2,2), strides=None),\n",
    "    keras.layers.Conv2D(10, kernel_size=3, activation='relu', padding='valid'),\n",
    "    keras.layers.BatchNormalization(),\n",
    "    keras.layers.Activation('relu'),\n",
    "    keras.layers.MaxPool2D(pool_size=(2,2), strides=None),\n",
    "    keras.layers.Flatten(),\n",
    "    keras.layers.Dense(15, activation='relu'),\n",
    "    keras.layers.Dense(10, activation=tf.nn.softmax)\n",
    "])"
   ]
  },
  {
   "cell_type": "code",
   "execution_count": 24,
   "metadata": {
    "ExecuteTime": {
     "end_time": "2020-10-23T18:22:26.099729Z",
     "start_time": "2020-10-23T18:22:25.880515Z"
    }
   },
   "outputs": [],
   "source": [
    "model4 = keras.Sequential([\n",
    "    keras.layers.Conv2D(20, kernel_size=3, activation='relu', input_shape=(28,28,1), padding='valid'),\n",
    "    keras.layers.MaxPool2D(pool_size=(2,2), strides=None),\n",
    "    keras.layers.Conv2D(10, kernel_size=3, activation='relu', padding='valid'),\n",
    "    #keras.layers.MaxPool2D(pool_size=(2,2), strides=None),\n",
    "    keras.layers.GlobalAveragePooling2D(),\n",
    "    keras.layers.Flatten(),\n",
    "    keras.layers.Dense(15, activation='relu'),\n",
    "    keras.layers.Dense(10, activation=tf.nn.softmax)\n",
    "])"
   ]
  },
  {
   "cell_type": "markdown",
   "metadata": {},
   "source": [
    "- CNN + Dropout"
   ]
  },
  {
   "cell_type": "markdown",
   "metadata": {},
   "source": [
    "### Pergunta:\n",
    "- Qual é a dimensão da saida da ultima camada de maxpooling no modelo CNN convencional?"
   ]
  },
  {
   "cell_type": "code",
   "execution_count": 26,
   "metadata": {
    "ExecuteTime": {
     "end_time": "2020-10-23T18:22:44.117911Z",
     "start_time": "2020-10-23T18:22:44.103980Z"
    }
   },
   "outputs": [
    {
     "output_type": "stream",
     "name": "stdout",
     "text": [
      "Model: \"sequential_1\"\n_________________________________________________________________\nLayer (type)                 Output Shape              Param #   \n=================================================================\nconv2d_4 (Conv2D)            (None, 26, 26, 20)        200       \n_________________________________________________________________\nmax_pooling2d_4 (MaxPooling2 (None, 13, 13, 20)        0         \n_________________________________________________________________\nconv2d_5 (Conv2D)            (None, 11, 11, 10)        1810      \n_________________________________________________________________\nmax_pooling2d_5 (MaxPooling2 (None, 5, 5, 10)          0         \n_________________________________________________________________\nflatten_1 (Flatten)          (None, 250)               0         \n_________________________________________________________________\ndense_2 (Dense)              (None, 15)                3765      \n_________________________________________________________________\ndense_3 (Dense)              (None, 10)                160       \n=================================================================\nTotal params: 5,935\nTrainable params: 5,935\nNon-trainable params: 0\n_________________________________________________________________\nmodelo 1:  None\nModel: \"sequential_5\"\n_________________________________________________________________\nLayer (type)                 Output Shape              Param #   \n=================================================================\nconv2d_12 (Conv2D)           (None, 26, 26, 20)        200       \n_________________________________________________________________\nmax_pooling2d_12 (MaxPooling (None, 13, 13, 20)        0         \n_________________________________________________________________\nconv2d_13 (Conv2D)           (None, 11, 11, 10)        1810      \n_________________________________________________________________\nglobal_average_pooling2d (Gl (None, 10)                0         \n_________________________________________________________________\nflatten_5 (Flatten)          (None, 10)                0         \n_________________________________________________________________\ndense_10 (Dense)             (None, 15)                165       \n_________________________________________________________________\ndense_11 (Dense)             (None, 10)                160       \n=================================================================\nTotal params: 2,335\nTrainable params: 2,335\nNon-trainable params: 0\n_________________________________________________________________\nmodelo 4:  None\n"
     ]
    }
   ],
   "source": [
    "print(\"modelo 1: \", model1.summary())\n",
    "print(\"modelo 4: \", model4.summary())"
   ]
  },
  {
   "cell_type": "markdown",
   "metadata": {},
   "source": [
    "## Compilação do modelo\n",
    "\n",
    "Depois de definir a arquitetura para o treinamento, são necessários outros ajustes, os quais são adicionados durante a compilação do modelo:\n",
    "- Função custo: Mede a precisão do modelo durante o treinamento. É a função que queremos minimizar para \"direcionar\" o modelo na direção certa.\n",
    "- Otimizado: Método de otimização do modelo, visando a minimização da função custo.\n",
    "- Métrica: Usada para monitorar o treinamento, validação e teste do modelo."
   ]
  },
  {
   "cell_type": "code",
   "execution_count": 27,
   "metadata": {
    "ExecuteTime": {
     "end_time": "2020-10-23T18:22:48.642957Z",
     "start_time": "2020-10-23T18:22:48.624973Z"
    }
   },
   "outputs": [],
   "source": [
    "model1.compile(optimizer='adam',\n",
    "              loss='sparse_categorical_crossentropy',\n",
    "              metrics=['accuracy'])"
   ]
  },
  {
   "cell_type": "code",
   "execution_count": 28,
   "metadata": {
    "ExecuteTime": {
     "end_time": "2020-10-23T18:22:50.133996Z",
     "start_time": "2020-10-23T18:22:50.121063Z"
    }
   },
   "outputs": [],
   "source": [
    "model2.compile(optimizer='adam',\n",
    "              loss='sparse_categorical_crossentropy',\n",
    "              metrics=['accuracy'])"
   ]
  },
  {
   "cell_type": "code",
   "execution_count": 29,
   "metadata": {
    "ExecuteTime": {
     "end_time": "2020-10-23T18:22:50.352019Z",
     "start_time": "2020-10-23T18:22:50.338060Z"
    }
   },
   "outputs": [],
   "source": [
    "model3.compile(optimizer='adam',\n",
    "              loss='sparse_categorical_crossentropy',\n",
    "              metrics=['accuracy'])"
   ]
  },
  {
   "cell_type": "code",
   "execution_count": 30,
   "metadata": {
    "ExecuteTime": {
     "end_time": "2020-10-23T18:22:50.691981Z",
     "start_time": "2020-10-23T18:22:50.679995Z"
    }
   },
   "outputs": [],
   "source": [
    "model4.compile(optimizer='adam',\n",
    "              loss='sparse_categorical_crossentropy',\n",
    "              metrics=['accuracy'])"
   ]
  },
  {
   "cell_type": "markdown",
   "metadata": {},
   "source": [
    "## Treinamento da rede neural:\n",
    "\n",
    "Forneça os pares de entrada saída para o modelo, estes dados serão utilizados para ajustar os parâmetros do modelo. Para verificar o sobre ajuste do modelo (overfitting), será utilizado 20% dos dados de treinamento previamente separados, e um mecanismo de parada prematura será utilizado de tal forma que o melhor modelo seja salvo. \n",
    "\n",
    "Para começar o treinamento, chame o método model.fit."
   ]
  },
  {
   "cell_type": "code",
   "execution_count": 31,
   "metadata": {
    "ExecuteTime": {
     "end_time": "2020-10-23T18:23:12.238512Z",
     "start_time": "2020-10-23T18:23:12.233562Z"
    }
   },
   "outputs": [],
   "source": [
    "from tensorflow.keras.callbacks import ModelCheckpoint, EarlyStopping, ReduceLROnPlateau\n",
    "earlyStopping = EarlyStopping(monitor='val_loss', patience=10, verbose=0, mode='min')\n",
    "mcp_save = ModelCheckpoint('fashion_cnn_model.h5', save_best_only=True, monitor='val_loss', mode='min')\n",
    "# reduce_lr_loss = ReduceLROnPlateau(monitor='val_loss', factor=0.1, patience=7, verbose=1, epsilon=1e-4, mode='min')"
   ]
  },
  {
   "cell_type": "code",
   "execution_count": 32,
   "metadata": {
    "ExecuteTime": {
     "end_time": "2020-10-23T18:34:31.026323Z",
     "start_time": "2020-10-23T18:33:35.443976Z"
    }
   },
   "outputs": [
    {
     "output_type": "stream",
     "name": "stdout",
     "text": [
      "Epoch 1/5\n",
      "1200/1200 [==============================] - 63s 52ms/step - loss: 1.3312 - accuracy: 0.6231 - val_loss: 0.8061 - val_accuracy: 0.7255\n",
      "Epoch 2/5\n",
      "1200/1200 [==============================] - 75s 63ms/step - loss: 0.6858 - accuracy: 0.7475 - val_loss: 0.6354 - val_accuracy: 0.7563\n",
      "Epoch 3/5\n",
      "1200/1200 [==============================] - 72s 60ms/step - loss: 0.5782 - accuracy: 0.7695 - val_loss: 0.5617 - val_accuracy: 0.7663\n",
      "Epoch 4/5\n",
      "1200/1200 [==============================] - 63s 53ms/step - loss: 0.4918 - accuracy: 0.8243 - val_loss: 0.4833 - val_accuracy: 0.8301\n",
      "Epoch 5/5\n",
      "1200/1200 [==============================] - 78s 65ms/step - loss: 0.4402 - accuracy: 0.8453 - val_loss: 0.4375 - val_accuracy: 0.8468\n"
     ]
    }
   ],
   "source": [
    "history = model1.fit(X_train, y_train, batch_size=40, validation_data=(X_val, y_val), epochs=5, verbose=True, callbacks=[earlyStopping, mcp_save])"
   ]
  },
  {
   "cell_type": "code",
   "execution_count": null,
   "metadata": {
    "ExecuteTime": {
     "end_time": "2020-10-23T18:35:30.143635Z",
     "start_time": "2020-10-23T18:34:31.040287Z"
    }
   },
   "outputs": [],
   "source": [
    "history2 = model2.fit(X_train, y_train, batch_size=40, validation_data=(X_val, y_val), epochs=5, verbose=True, callbacks=[earlyStopping, mcp_save])"
   ]
  },
  {
   "cell_type": "code",
   "execution_count": null,
   "metadata": {
    "ExecuteTime": {
     "end_time": "2020-10-23T18:37:54.738662Z",
     "start_time": "2020-10-23T18:35:30.159593Z"
    }
   },
   "outputs": [],
   "source": [
    "history3 = model3.fit(X_train, y_train, batch_size=40, validation_data=(X_val, y_val), epochs=5, verbose=True, callbacks=[earlyStopping, mcp_save])"
   ]
  },
  {
   "cell_type": "code",
   "execution_count": null,
   "metadata": {
    "ExecuteTime": {
     "end_time": "2020-10-23T18:38:53.443957Z",
     "start_time": "2020-10-23T18:37:54.756614Z"
    }
   },
   "outputs": [],
   "source": [
    "history4 = model4.fit(X_train, y_train, batch_size=40, validation_data=(X_val, y_val), epochs=5,verbose=True, callbacks=[earlyStopping, mcp_save])"
   ]
  },
  {
   "cell_type": "markdown",
   "metadata": {},
   "source": [
    "## Plot histórico do treinamento e validação"
   ]
  },
  {
   "cell_type": "code",
   "execution_count": null,
   "metadata": {
    "ExecuteTime": {
     "end_time": "2020-10-23T18:38:54.191500Z",
     "start_time": "2020-10-23T18:38:53.459915Z"
    },
    "scrolled": false
   },
   "outputs": [],
   "source": [
    "# list all data in history\n",
    "print(history.history.keys())\n",
    "plt.figure(figsize=(15,15))\n",
    "# summarize history for accuracy\n",
    "plt.plot(history.history['accuracy'],\"g\")\n",
    "plt.plot(history.history['val_accuracy'],\"r\")\n",
    "plt.plot(history2.history['accuracy'],\"y\")\n",
    "plt.plot(history2.history['val_accuracy'],'b')\n",
    "plt.plot(history3.history['accuracy'],\"--g\")\n",
    "plt.plot(history3.history['val_accuracy'],'--r')\n",
    "plt.plot(history4.history['accuracy'],\"-.y\")\n",
    "plt.plot(history4.history['val_accuracy'],'-.b')\n",
    "plt.title('model accuracy')\n",
    "plt.ylabel('accuracy')\n",
    "plt.xlabel('epoch')\n",
    "plt.legend(['train', 'val','train_drop', 'val_drop','train_bn', 'val_bn', 'train_GAP', 'val_GAP'], loc='upper left')\n",
    "plt.show()\n",
    "# summarize history for loss\n",
    "plt.figure(figsize=(15,15))\n",
    "plt.plot(history.history['loss'], 'g')\n",
    "plt.plot(history.history['val_loss'], 'r')\n",
    "plt.plot(history2.history['loss'],'y')\n",
    "plt.plot(history2.history['val_loss'],'b')\n",
    "plt.plot(history3.history['loss'],'--g')\n",
    "plt.plot(history3.history['val_loss'],'--r')\n",
    "plt.plot(history4.history['loss'],'-.y')\n",
    "plt.plot(history4.history['val_loss'],'-.b')\n",
    "plt.title('model loss')\n",
    "plt.ylabel('loss')\n",
    "plt.xlabel('epoch')\n",
    "plt.legend(['train', 'val','train_drop', 'val_drop','train_bn', 'val_bn', 'train_GAP', 'val_GAP'], loc='upper left')\n",
    "plt.show()"
   ]
  },
  {
   "cell_type": "markdown",
   "metadata": {},
   "source": [
    "## Avaliação da acuracia"
   ]
  },
  {
   "cell_type": "code",
   "execution_count": null,
   "metadata": {
    "ExecuteTime": {
     "end_time": "2020-10-23T18:38:55.702735Z",
     "start_time": "2020-10-23T18:38:54.207426Z"
    }
   },
   "outputs": [],
   "source": [
    "test_loss, test_acc = model.evaluate(test_images, test_labels)\n",
    "\n",
    "print('Test accuracy:', test_acc)"
   ]
  },
  {
   "cell_type": "markdown",
   "metadata": {},
   "source": [
    "## Realizando as predições\n",
    "\n",
    "Após o modelo ser treinado, é possível realizar predições de imagens que não pertencem ao conjunto de treinamento.]\n",
    "\n",
    "Use o metodo model.predict()."
   ]
  },
  {
   "cell_type": "code",
   "execution_count": null,
   "metadata": {
    "ExecuteTime": {
     "end_time": "2020-10-23T18:38:57.162519Z",
     "start_time": "2020-10-23T18:38:55.717694Z"
    }
   },
   "outputs": [],
   "source": [
    "predictions = model3.predict(test_images)"
   ]
  },
  {
   "cell_type": "code",
   "execution_count": null,
   "metadata": {
    "ExecuteTime": {
     "end_time": "2020-10-23T18:38:57.187455Z",
     "start_time": "2020-10-23T18:38:57.182467Z"
    }
   },
   "outputs": [],
   "source": [
    "predictions.shape"
   ]
  },
  {
   "cell_type": "code",
   "execution_count": null,
   "metadata": {
    "ExecuteTime": {
     "end_time": "2020-10-23T18:38:57.212386Z",
     "start_time": "2020-10-23T18:38:57.208397Z"
    }
   },
   "outputs": [],
   "source": [
    "image_selected = 300\n",
    "predicted_label = np.argmax(predictions[image_selected])\n",
    "true_label = test_labels[image_selected]\n",
    "predictions_array = predictions[image_selected]"
   ]
  },
  {
   "cell_type": "code",
   "execution_count": null,
   "metadata": {
    "ExecuteTime": {
     "end_time": "2020-10-23T18:38:57.241309Z",
     "start_time": "2020-10-23T18:38:57.235325Z"
    }
   },
   "outputs": [],
   "source": [
    "test_images.shape"
   ]
  },
  {
   "cell_type": "code",
   "execution_count": null,
   "metadata": {
    "ExecuteTime": {
     "end_time": "2020-10-23T18:38:57.429808Z",
     "start_time": "2020-10-23T18:38:57.259261Z"
    }
   },
   "outputs": [],
   "source": [
    "plt.imshow(test_images[predicted_label,:,:,0], cmap=\"gray\")\n",
    "if predicted_label == true_label:\n",
    "    color = 'blue'\n",
    "else:\n",
    "    color = 'red'\n",
    "plt.xlabel(\"{} {:2.0f}% ({})\".format(class_names[predicted_label],\n",
    "                                100*np.max(predictions_array),\n",
    "                                class_names[true_label]),\n",
    "                                color=color)\n",
    "plt.show()"
   ]
  },
  {
   "cell_type": "code",
   "execution_count": null,
   "metadata": {},
   "outputs": [],
   "source": []
  }
 ],
 "metadata": {
  "kernelspec": {
   "display_name": "Python 3",
   "language": "python",
   "name": "python3"
  },
  "language_info": {
   "codemirror_mode": {
    "name": "ipython",
    "version": 3
   },
   "file_extension": ".py",
   "mimetype": "text/x-python",
   "name": "python",
   "nbconvert_exporter": "python",
   "pygments_lexer": "ipython3",
   "version": "3.7.5-final"
  },
  "varInspector": {
   "cols": {
    "lenName": 16,
    "lenType": 16,
    "lenVar": 40
   },
   "kernels_config": {
    "python": {
     "delete_cmd_postfix": "",
     "delete_cmd_prefix": "del ",
     "library": "var_list.py",
     "varRefreshCmd": "print(var_dic_list())"
    },
    "r": {
     "delete_cmd_postfix": ") ",
     "delete_cmd_prefix": "rm(",
     "library": "var_list.r",
     "varRefreshCmd": "cat(var_dic_list()) "
    }
   },
   "types_to_exclude": [
    "module",
    "function",
    "builtin_function_or_method",
    "instance",
    "_Feature"
   ],
   "window_display": false
  }
 },
 "nbformat": 4,
 "nbformat_minor": 2
}